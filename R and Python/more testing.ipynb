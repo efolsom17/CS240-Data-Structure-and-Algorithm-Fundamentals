{
 "cells": [
  {
   "cell_type": "code",
   "execution_count": 12,
   "metadata": {},
   "outputs": [],
   "source": [
    "exec(open(\"./Python Functions/binary_search.py\").read())"
   ]
  },
  {
   "cell_type": "code",
   "execution_count": 19,
   "metadata": {},
   "outputs": [],
   "source": [
    "with open(\"C:\\\\Users\\\\Eric Folsom\\\\Desktop\\\\School work\\\\CS240-Data-Structure-and-Algorithm-Fundamentals\\\\Assignments\\\\Algorithms Assignment 1\\\\Data\\\\numbers.txt\", \"r\") as nums:\n",
    "    numbers = [line.strip() for line in nums]\n",
    "\n",
    "numbers = [int(item) for item in numbers]"
   ]
  },
  {
   "cell_type": "code",
   "execution_count": 23,
   "metadata": {},
   "outputs": [
    {
     "name": "stdout",
     "output_type": "stream",
     "text": [
      "Target:  1042433 \n",
      "Lowest Index:  0 \n",
      "High Index:  1998 \n",
      "Index we are searching is:  999  Value:  101770396\n",
      "Search was too high\n",
      "Target:  1042433 \n",
      "Lowest Index:  0 \n",
      "High Index:  998 \n",
      "Index we are searching is:  499  Value:  51216352\n",
      "Search was too high\n",
      "Target:  1042433 \n",
      "Lowest Index:  0 \n",
      "High Index:  498 \n",
      "Index we are searching is:  249  Value:  24260681\n",
      "Search was too high\n",
      "Target:  1042433 \n",
      "Lowest Index:  0 \n",
      "High Index:  248 \n",
      "Index we are searching is:  124  Value:  11913096\n",
      "Search was too high\n",
      "Target:  1042433 \n",
      "Lowest Index:  0 \n",
      "High Index:  123 \n",
      "Index we are searching is:  61  Value:  6295246\n",
      "Search was too high\n",
      "Target:  1042433 \n",
      "Lowest Index:  0 \n",
      "High Index:  60 \n",
      "Index we are searching is:  30  Value:  3085679\n",
      "Search was too high\n",
      "Target:  1042433 \n",
      "Lowest Index:  0 \n",
      "High Index:  29 \n",
      "Index we are searching is:  14  Value:  1611669\n",
      "Search was too high\n",
      "Target:  1042433 \n",
      "Lowest Index:  0 \n",
      "High Index:  13 \n",
      "Index we are searching is:  6  Value:  771040\n",
      "Search was too low\n",
      "Target:  1042433 \n",
      "Lowest Index:  7 \n",
      "High Index:  13 \n",
      "Index we are searching is:  10  Value:  1042433\n",
      "Item 1042433 is located at index 10.\n",
      "This took 9 operations.\n"
     ]
    }
   ],
   "source": [
    "t= binary_search(numbers[10],numbers, oper = True, diag= True)"
   ]
  },
  {
   "cell_type": "code",
   "execution_count": 4,
   "metadata": {},
   "outputs": [
    {
     "data": {
      "text/plain": [
       "int"
      ]
     },
     "execution_count": 4,
     "metadata": {},
     "output_type": "execute_result"
    }
   ],
   "source": [
    "x = [10,20,30,40]\n",
    "x[1].__class__\n",
    "## WHY hAVE I BEEN DOING type(x).__name__????????"
   ]
  }
 ],
 "metadata": {
  "kernelspec": {
   "display_name": ".venv",
   "language": "python",
   "name": "python3"
  },
  "language_info": {
   "codemirror_mode": {
    "name": "ipython",
    "version": 3
   },
   "file_extension": ".py",
   "mimetype": "text/x-python",
   "name": "python",
   "nbconvert_exporter": "python",
   "pygments_lexer": "ipython3",
   "version": "3.11.9"
  }
 },
 "nbformat": 4,
 "nbformat_minor": 2
}
