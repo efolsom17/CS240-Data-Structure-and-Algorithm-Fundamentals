{
 "cells": [
  {
   "cell_type": "code",
   "execution_count": null,
   "metadata": {},
   "outputs": [],
   "source": [
    "exec(open(\"./Python Functions/binary_search.py\").read())"
   ]
  },
  {
   "cell_type": "code",
   "execution_count": null,
   "metadata": {},
   "outputs": [],
   "source": [
    "with open(\"C:\\\\Users\\\\Eric Folsom\\\\Desktop\\\\School work\\\\CS240-Data-Structure-and-Algorithm-Fundamentals\\\\Assignments\\\\Algorithms Assignment 1\\\\Data\\\\numbers.txt\", \"r\") as nums:\n",
    "    numbers = [line.strip() for line in nums]\n",
    "\n",
    "numbers = [int(item) for item in numbers]"
   ]
  },
  {
   "cell_type": "code",
   "execution_count": null,
   "metadata": {},
   "outputs": [
    {
     "name": "stdout",
     "output_type": "stream",
     "text": [
      "Target:  1042433 \n",
      "Lowest Index:  0 \n",
      "High Index:  1998 \n",
      "Index we are searching is:  999  Value:  101770396\n",
      "Search was too high\n",
      "Target:  1042433 \n",
      "Lowest Index:  0 \n",
      "High Index:  998 \n",
      "Index we are searching is:  499  Value:  51216352\n",
      "Search was too high\n",
      "Target:  1042433 \n",
      "Lowest Index:  0 \n",
      "High Index:  498 \n",
      "Index we are searching is:  249  Value:  24260681\n",
      "Search was too high\n",
      "Target:  1042433 \n",
      "Lowest Index:  0 \n",
      "High Index:  248 \n",
      "Index we are searching is:  124  Value:  11913096\n",
      "Search was too high\n",
      "Target:  1042433 \n",
      "Lowest Index:  0 \n",
      "High Index:  123 \n",
      "Index we are searching is:  61  Value:  6295246\n",
      "Search was too high\n",
      "Target:  1042433 \n",
      "Lowest Index:  0 \n",
      "High Index:  60 \n",
      "Index we are searching is:  30  Value:  3085679\n",
      "Search was too high\n",
      "Target:  1042433 \n",
      "Lowest Index:  0 \n",
      "High Index:  29 \n",
      "Index we are searching is:  14  Value:  1611669\n",
      "Search was too high\n",
      "Target:  1042433 \n",
      "Lowest Index:  0 \n",
      "High Index:  13 \n",
      "Index we are searching is:  6  Value:  771040\n",
      "Search was too low\n",
      "Target:  1042433 \n",
      "Lowest Index:  7 \n",
      "High Index:  13 \n",
      "Index we are searching is:  10  Value:  1042433\n",
      "Item 1042433 is located at index 10.\n",
      "This took 9 operations.\n"
     ]
    }
   ],
   "source": [
    "t= binary_search(numbers[10],numbers, oper = True, diag= True)"
   ]
  },
  {
   "cell_type": "code",
   "execution_count": null,
   "metadata": {},
   "outputs": [
    {
     "data": {
      "text/plain": [
       "int"
      ]
     },
     "execution_count": 4,
     "metadata": {},
     "output_type": "execute_result"
    }
   ],
   "source": [
    "x = [10,20,30,40]\n",
    "x[1].__class__\n",
    "## WHY hAVE I BEEN DOING type(x).__name__????????"
   ]
  },
  {
   "cell_type": "code",
   "execution_count": 26,
   "metadata": {},
   "outputs": [
    {
     "name": "stdout",
     "output_type": "stream",
     "text": [
      "1 -> 2 -> 3 -> 4 -> 5\n"
     ]
    }
   ],
   "source": [
    "class Node:\n",
    "    def __init__(self, data):\n",
    "        self.data = data  # The data stored in the node\n",
    "        self.next = None  # The next node in the list\n",
    "\n",
    "class LinkedList:\n",
    "    def __init__(self, data_list = list):\n",
    "        self.head = None\n",
    "        if data_list:\n",
    "            # Initialize the linked list with the first element\n",
    "            self.head = Node(data_list[0])\n",
    "            current = self.head\n",
    "            \n",
    "            # Iterate over the rest of the data elements\n",
    "            for data in data_list[1:]:\n",
    "                current.next = Node(data)\n",
    "                current = current.next\n",
    "\n",
    "    def __repr__(self):\n",
    "        nodes = []\n",
    "        current = self.head\n",
    "        while current:\n",
    "            nodes.append(repr(current.data))\n",
    "            current = current.next\n",
    "        return \" -> \".join(nodes)\n",
    "\n",
    "# Example usage:\n",
    "try:\n",
    "    ll = LinkedList([1, 2, 3, 4, 5])\n",
    "    print(ll)\n",
    "except Exception as e:\n",
    "    print(e)"
   ]
  },
  {
   "cell_type": "code",
   "execution_count": null,
   "metadata": {},
   "outputs": [
    {
     "name": "stdout",
     "output_type": "stream",
     "text": [
      "[0, 1, 2, 3, 4, 5, 6, 7, 8, 9, 10, 11, 12, 13, 14, 15, 16, 17, 18, 19, 20, 21, 22, 23, 24, 25, 26, 27, 28, 29, 30, 31, 32, 33, 34, 35, 36, 37, 38, 39, 40, 41, 42, 43, 44, 45, 46, 47, 48, 49, 50, 51, 52, 53, 54, 55, 56, 57, 58, 59, 60, 61, 62, 63, 64, 65, 66, 67, 68, 69, 70, 71, 72, 73, 74, 75, 76, 77, 78, 79, 80, 81, 82, 83, 84, 85, 86, 87, 88, 89, 90, 91, 92, 93, 94, 95, 96, 97, 98, 99]\n",
      "<class 'list'>\n",
      "0 -> 1 -> 2 -> 3 -> 4 -> 5 -> 6 -> 7 -> 8 -> 9 -> 10 -> 11 -> 12 -> 13 -> 14 -> 15 -> 16 -> 17 -> 18 -> 19 -> 20 -> 21 -> 22 -> 23 -> 24 -> 25 -> 26 -> 27 -> 28 -> 29 -> 30 -> 31 -> 32 -> 33 -> 34 -> 35 -> 36 -> 37 -> 38 -> 39 -> 40 -> 41 -> 42 -> 43 -> 44 -> 45 -> 46 -> 47 -> 48 -> 49 -> 50 -> 51 -> 52 -> 53 -> 54 -> 55 -> 56 -> 57 -> 58 -> 59 -> 60 -> 61 -> 62 -> 63 -> 64 -> 65 -> 66 -> 67 -> 68 -> 69 -> 70 -> 71 -> 72 -> 73 -> 74 -> 75 -> 76 -> 77 -> 78 -> 79 -> 80 -> 81 -> 82 -> 83 -> 84 -> 85 -> 86 -> 87 -> 88 -> 89 -> 90 -> 91 -> 92 -> 93 -> 94 -> 95 -> 96 -> 97 -> 98 -> 99\n",
      "<class '__main__.LinkedList'>\n"
     ]
    }
   ],
   "source": [
    "x = list(range(0,100))\n",
    "print(x)\n",
    "print(type(x))\n",
    "x = LinkedList(x)\n",
    "print(x) \n",
    "print(type(x))"
   ]
  },
  {
   "cell_type": "code",
   "execution_count": 25,
   "metadata": {},
   "outputs": [
    {
     "name": "stdout",
     "output_type": "stream",
     "text": [
      "[0, 1, 2, 3, 4, 5, 6, 7, 8, 9, 10, 11, 12, 13, 14, 15, 16, 17, 18, 19, 20, 21, 22, 23, 24, 25, 26, 27, 28, 29, 30, 31, 32, 33, 34, 35, 36, 37, 38, 39, 40, 41, 42, 43, 44, 45, 46, 47, 48, 49, 50, 51, 52, 53, 54, 55, 56, 57, 58, 59, 60, 61, 62, 63, 64, 65, 66, 67, 68, 69, 70, 71, 72, 73, 74, 75, 76, 77, 78, 79, 80, 81, 82, 83, 84, 85, 86, 87, 88, 89, 90, 91, 92, 93, 94, 95, 96, 97, 98, 99]\n"
     ]
    },
    {
     "data": {
      "text/plain": [
       "1"
      ]
     },
     "execution_count": 25,
     "metadata": {},
     "output_type": "execute_result"
    }
   ],
   "source": [
    "x = list(range(0,100))\n",
    "print(x)\n",
    "LinkedList(x)\n",
    "type(x)\n",
    "y= LinkedList(x)\n"
   ]
  }
 ],
 "metadata": {
  "kernelspec": {
   "display_name": ".venv",
   "language": "python",
   "name": "python3"
  },
  "language_info": {
   "codemirror_mode": {
    "name": "ipython",
    "version": 3
   },
   "file_extension": ".py",
   "mimetype": "text/x-python",
   "name": "python",
   "nbconvert_exporter": "python",
   "pygments_lexer": "ipython3",
   "version": "3.11.3"
  }
 },
 "nbformat": 4,
 "nbformat_minor": 2
}
